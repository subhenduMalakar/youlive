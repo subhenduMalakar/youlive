{
 "cells": [
  {
   "cell_type": "code",
   "execution_count": 2,
   "metadata": {
    "collapsed": false
   },
   "outputs": [],
   "source": [
    "from mutagen.mp3 import MP3\n",
    "from datetime import datetime\n",
    "import shutil\n",
    "import subprocess\n",
    "import wikipedia as wi\n",
    "from google_images_download import google_images_download\n",
    "import re\n",
    "from gtts import gTTS\n",
    "import requests, json\n",
    "import time"
   ]
  },
  {
   "cell_type": "code",
   "execution_count": null,
   "metadata": {
    "collapsed": true
   },
   "outputs": [],
   "source": [
    "for i1 in range(97,123):\n",
    "    a1=chr(i1)\n",
    "    for j1 in range(97,123):\n",
    "        b1=chr(j1)\n",
    "        if(i1==97 and j1==97):\n",
    "            kk1=106\n",
    "        else:\n",
    "            kk1=97\n",
    "            \n",
    "        for k1 in range(kk1,123):\n",
    "            c1=chr(k1)\n",
    "            for l1 in range(4,9):\n",
    "                print(str(l1)+a1+b1+c1)\n",
    "                URL=\"http://suggestqueries.google.com/complete/search?client=firefox&q=what is \"+a1+b1+c1\n",
    "                headers = {'User-agent':'Mozilla/5.0'}\n",
    "                response = requests.get(URL, headers=headers)\n",
    "                results = json.loads(response.content.decode('utf-8'))\n",
    "                RES=results[1][l1]\n",
    "\n",
    "                fobj = open(\"data.txt\")\n",
    "                text = fobj.read().split('\\n')\n",
    "                search_List=wi.search(RES)\n",
    "                summery=wi.summary(search_List[0])\n",
    "                dirC=search_List[0]\n",
    "                print(dirC)\n",
    "                s=dirC\n",
    "                if s in text:\n",
    "                    print(\"Matched found in text file\")\n",
    "                else:\n",
    "                    print('The program will be run')\n",
    "                    fobj.close()\n",
    "                    fobj = open(\"data.txt\",'a')\n",
    "                    fobj.write('\\n'+s)\n",
    "                    fobj.close()\n",
    "\n",
    "                    print(RES)\n",
    "                    search_List=wi.search(RES)\n",
    "                    summery=wi.summary(search_List[0])\n",
    "                    dirC=search_List[0]\n",
    "                    dirC = dirC.replace(\" \",\"-\")\n",
    "\n",
    "                    summery=summery+\".Subscribe our channel for more such Informative Video.\"\n",
    "                    summery=summery.replace('\\n', '')\n",
    "                    summery=summery.replace('..', '.')\n",
    "                    summery=summery.replace('...', '.')\n",
    "\n",
    "                    summery=summery.replace('. .', '.')\n",
    "                    summery=summery.replace('  ', ' ')\n",
    "\n",
    "\n",
    "                    dirC = re.sub(r\"[-()\\\"#&/@;:<>{}`+=~|?.!,]\", \"\", dirC)\n",
    "                    dirC = dirC.replace(\" \",\"-\")\n",
    "                    response = google_images_download.googleimagesdownload()   #class instantiation\n",
    "                    arguments = {\"keywords\":dirC,\"limit\":2,\"print_urls\":True,\"format\":\"jpg\",'usage_rights':\"labeled-for-reuse\"}   #creating list of arguments\n",
    "                    paths = response.download(arguments)   #passing the arguments to the function\n",
    "                    print(paths)\n",
    "\n",
    "                    sendsum=summery\n",
    "                    summery=summery.replace('\\n', '.')\n",
    "                    summery = re.sub(r\"[-()\\\"#&/@;:<>{}`+=~|!?]\", \"\", summery)\n",
    "                    summery=summery.replace('\\n', '')\n",
    "                    summery=summery.replace('..', '.')\n",
    "                    summery=summery.replace('. .', '.')\n",
    "                    summery=summery.replace('  ', ' ')\n",
    "\n",
    "                    oo=1\n",
    "                    import os\n",
    "                    for filename in os.listdir(\"downloads/\"+dirC):\n",
    "                        dst =format(oo) + \".jpg\"\n",
    "                        src =\"downloads/\" + dirC+\"/\" + filename\n",
    "                        dst =\"downloads/\" + dirC+\"/\" + dst\n",
    "                        os.rename(src, dst)\n",
    "                        oo=oo+1\n",
    "\n",
    "                    from PIL import Image\n",
    "                    import os, sys\n",
    "\n",
    "                    path = 'downloads/'+dirC\n",
    "                    directory = path\n",
    "                    for file_name in os.listdir(directory):\n",
    "                      print(\"Processing %s\" % file_name)\n",
    "                      image = Image.open(os.path.join(directory, file_name))\n",
    "\n",
    "                      x,y = image.size\n",
    "                      new_dimensions = (1920,1080)\n",
    "                      output = image.resize(new_dimensions, Image.ANTIALIAS)\n",
    "\n",
    "                      output_file_name = os.path.join(directory,file_name)\n",
    "                      output.save(output_file_name, \"JPEG\", quality = 95)\n",
    "\n",
    "\n",
    "                    len=0.01\n",
    "                    start_time=0.1\n",
    "                    import datetime\n",
    "                    from moviepy.video.io.ffmpeg_tools import ffmpeg_extract_subclip\n",
    "                    a=0\n",
    "                    b=1\n",
    "                    i1=1\n",
    "                    i2=2\n",
    "                    sentence_sends=summery\n",
    "                    sentence_sends=sentence_sends.split('.')\n",
    "                    sentence_sends = sentence_sends[:-1]\n",
    "                    current_time=datetime.datetime(100,1,10,0,0)\n",
    "                    number=0\n",
    "                    time=datetime.datetime(100,1,1,0,0,0)\n",
    "\n",
    "                    for sentence_send in sentence_sends:\n",
    "                        '''-------------------------------------'''\n",
    "                        print(\"Start of LOOP ------------------------->\")\n",
    "\n",
    "                        tts = gTTS(sentence_send, lang='en')\n",
    "                        tts.save('mp3/'+format(b)+'.mp3')\n",
    "                        import time\n",
    "                        time.sleep(2)\n",
    "                        audio = MP3('mp3/'+format(b)+'.mp3')\n",
    "                        audio=float(audio.info.length)\n",
    "                        perf=format(audio)\n",
    "                        a=a+audio\n",
    "\n",
    "                        import time\n",
    "                        time.sleep(2)\n",
    "                        print(a)\n",
    "                        '''-------------------------------------'''\n",
    "\n",
    "                        time_add=audio\n",
    "                        time_add=int(time_add)\n",
    "                        end_time=current_time+datetime.timedelta(0,time_add)\n",
    "                        str_current_time=format(current_time.time())\n",
    "                        str_end_time=format(end_time.time())\n",
    "                        #current_time=end_time#datetime.timedelta(0,1)\n",
    "                        with open(\"vtt.vtt\",\"w\",encoding=\"utf-8\") as f:\n",
    "                            f.write(\"WEBVTT\\nKind: captions\\nLanguage: en\\n\")\n",
    "\n",
    "                        with open(\"vtt.vtt\",\"a\",encoding=\"utf-8\") as f:\n",
    "                            print(sentence_send)\n",
    "                            f.write(\"\\n\")\n",
    "                            f.write(str_current_time)\n",
    "                            f.write(\".1\")\n",
    "                            f.write(\" --> \")\n",
    "                            f.write(str_end_time)\n",
    "                            f.write(\".1\")\n",
    "                            f.write(\"\\n\")\n",
    "                            f.write(sentence_send)\n",
    "                            f.write(\"\\n\")\n",
    "                            f.write(\"\\n\")\n",
    "\n",
    "                        a1='ffmpeg -framerate 1/'+perf+' -i downloads/'+dirC+'/1.jpg -c:v libx264 -r 30 -pix_fmt yuv420p video/'+format(i1)+'.mp4'\n",
    "                        subprocess.call(a1, shell=True)\n",
    "                        import time\n",
    "                        time.sleep(2)\n",
    "\n",
    "                        b1='ffmpeg -i video/'+format(i1)+'.mp4 -i mp3/'+format(b)+'.mp3 -c copy -map 0:0 -map 1:0 video2/'+format(i1)+'.mp4'\n",
    "                        subprocess.call(b1, shell=True)\n",
    "\n",
    "                        import time\n",
    "                        time.sleep(2)\n",
    "\n",
    "                        c11='''ffmpeg -i video2/'''+format(i1)+'''.mp4 -vf \"subtitles=vtt.vtt:force_style='Name=Default,Fontname=Arial,Fontsize=25,PrimaryColour=&Hffffff,SecondaryColour=&Hffffff,OutlineColour=&H44000000,BackColour=&40,BorderStyle=1,Shadow=0'\" -strict -2 video3/'''+format(i1)+'''.mp4'''\n",
    "                        subprocess.call(c11, shell=True)\n",
    "\n",
    "                        i1=i1+1\n",
    "                        i2=i2+1\n",
    "                        print(b1)\n",
    "                        len=len+audio\n",
    "                        number=number+1\n",
    "                        b=b+1\n",
    "\n",
    "                        with open(\"mylist1.txt\",\"w\",encoding=\"utf-8\") as f:\n",
    "                            f.write(\"\")\n",
    "                    path = 'video3/'\n",
    "                    files = os.listdir(path)\n",
    "                    for i in range(0,1000):\n",
    "                        if format(i)+\".mp4\" in files:\n",
    "                            print(format(i)+\".mp4\")\n",
    "                            with open(\"video3/mylist1.txt\",\"a\",encoding=\"utf-8\") as f:\n",
    "                                f.write(\"file \"+\"'\"+format(i)+\".mp4\"+\"'\")\n",
    "                                f.write(\"\\n\")\n",
    "                    subprocess.call(\"ffmpeg -f concat -safe 0 -i video3/mylist1.txt -c copy output.mp4\", shell=True)\n",
    "\n",
    "                    try:\n",
    "                        os.remove(\"vtt.vtt\")\n",
    "                        import glob, os\n",
    "                        test = 'video/*'\n",
    "                        r = glob.glob(test)\n",
    "                        for i in r:\n",
    "                           os.remove(i)\n",
    "\n",
    "                        import glob, os\n",
    "                        test = 'video2/*'\n",
    "                        r = glob.glob(test)\n",
    "                        for i in r:\n",
    "                           os.remove(i)\n",
    "\n",
    "                        import glob, os\n",
    "                        test = 'video3/*'\n",
    "                        r = glob.glob(test)\n",
    "                        for i in r:\n",
    "                           os.remove(i)\n",
    "\n",
    "                        import glob, os\n",
    "                        test = 'mp3/*'\n",
    "                        r = glob.glob(test)\n",
    "                        for i in r:\n",
    "                           os.remove(i)\n",
    "                    except Exception:\n",
    "                        pass\n",
    "\n",
    "\n",
    "\n",
    "\n",
    "\n",
    "                    with open(\"my_credentials.json\",\"w\",encoding=\"utf-8\") as f:\n",
    "                        f.write(\"\"\"{\"access_token\": \"ya29.Glx7Bk7z5Ik_ygfLPiY8exQ92wSqE1leETW8F1WSXL44XeCpadTqIjMZAIgVj_C9v6I0rRd6vS8FlymfP4A-QvKKShamP6oQ5BR9Z6jCtTewcfNKCAybX2gjr0CQlQ\", \"client_id\": \"968217601437-7li1ovd4v6k843iv79t1eun8kh2pa6s4.apps.googleusercontent.com\", \"client_secret\": \"65jISUDVSDhUan2KOLDho_5_\", \"refresh_token\": \"1/j3pazwFEWotcf_ismaHPLlJC_DLioNb_-OlifaRp3OI\", \"token_expiry\": \"2018-12-23T19:13:03Z\", \"token_uri\": \"https://www.googleapis.com/oauth2/v3/token\", \"user_agent\": null, \"revoke_uri\": \"https://oauth2.googleapis.com/revoke\", \"id_token\": null, \"id_token_jwt\": null, \"token_response\": {\"access_token\": \"ya29.Glx7Bk7z5Ik_ygfLPiY8exQ92wSqE1leETW8F1WSXL44XeCpadTqIjMZAIgVj_C9v6I0rRd6vS8FlymfP4A-QvKKShamP6oQ5BR9Z6jCtTewcfNKCAybX2gjr0CQlQ\", \"expires_in\": 3600, \"scope\": \"https://www.googleapis.com/auth/youtube https://www.googleapis.com/auth/youtube.upload\", \"token_type\": \"Bearer\"}, \"scopes\": [\"https://www.googleapis.com/auth/youtube\", \"https://www.googleapis.com/auth/youtube.upload\"], \"token_info_uri\": \"https://oauth2.googleapis.com/tokeninfo\", \"invalid\": false, \"_class\": \"OAuth2Credentials\", \"_module\": \"oauth2client.client\"}\n",
    "                    \"\"\")\n",
    "\n",
    "                    with open(\"my_client_secrets.json\",\"w\",encoding=\"utf-8\") as f:\n",
    "                        f.write(\"\"\"{\"installed\":{\"client_id\":\"968217601437-7li1ovd4v6k843iv79t1eun8kh2pa6s4.apps.googleusercontent.com\",\"project_id\":\"what-is-it-all-about\",\"auth_uri\":\"https://accounts.google.com/o/oauth2/auth\",\"token_uri\":\"https://www.googleapis.com/oauth2/v3/token\",\"auth_provider_x509_cert_url\":\"https://www.googleapis.com/oauth2/v1/certs\",\"client_secret\":\"65jISUDVSDhUan2KOLDho_5_\",\"redirect_uris\":[\"urn:ietf:wg:oauth:2.0:oob\",\"http://localhost\"]}}\n",
    "                    \"\"\")\n",
    "                    print(\"-------------------------------------- 5\")\n",
    "\n",
    "\n",
    "\n",
    "                    from PIL import Image,ImageDraw,ImageFont\n",
    "\n",
    "                    # sample text and font\n",
    "                    unicode_text = \"Hello World!\"\n",
    "                    font = ImageFont.truetype(\"Oxygen-Bold.ttf\",200, encoding=\"unic\")\n",
    "\n",
    "                    # get the line size\n",
    "                    text_width, text_height = font.getsize(unicode_text)\n",
    "\n",
    "                    # create a blank canvas with extra space between lines\n",
    "                    canvas = Image.new('RGB', (1920,1080), \"#F7E394\")\n",
    "\n",
    "                    # draw the text onto the text canvas, and use black as the text color\n",
    "                    draw = ImageDraw.Draw(canvas)\n",
    "                    def count(list):\n",
    "                      item_count = 0\n",
    "                      for item in list[:]:\n",
    "                        item_count = item_count + 1\n",
    "                      return item_count\n",
    "                    \n",
    "                    def wrap_by_word(s, n):\n",
    "                        '''returns a string where \\\\n is inserted between every n words'''\n",
    "                        a12 = s.split()\n",
    "                        ret = ''\n",
    "                        length_of_list=count(a12)\n",
    "                        for i in range(0, length_of_list, n):\n",
    "                            ret += ' '.join(a12[i:i+n]) + '\\n'\n",
    "\n",
    "                        return ret\n",
    "\n",
    "                    x = wrap_by_word(search_List[0], 3)\n",
    "                    print(x)\n",
    "                    draw.text((100,200), x, '#5973EA', font)\n",
    "\n",
    "                    # save the blank canvas to a file\n",
    "                    canvas.save(\"unicode-text.png\", \"PNG\")\n",
    "\n",
    "\n",
    "                    title1=RES +\" | Information about \"+ search_List[0]\n",
    "                    title1=title1.capitalize()\n",
    "                    discrip=\". This content under the Creative Commons Attribution-ShareAlike License, all text used in this video is from wikipedia. I do not own it. I just make video out of this so that some people get some help.\"\n",
    "                    strL=\"youtube-upload --title=\"+\"'\"+title1+\"'\"+\" --description='A detail information about \"+RES+discrip+\"'\"+\" --category='Music' --tags=\"+\"'\"+RES+\", \"+search_List[0]+\"'\"+\" --default-language='en' --default-audio-language='en' --client-secrets='my_client_secrets.json' --credentials-file='my_credentials.json' --thumbnail='unicode-text.png' output.mp4\"\n",
    "                    subprocess.call(strL, shell=True)\n",
    "                    print(\"-------------------------------------- 6\")\n",
    "\n",
    "                    try:\n",
    "                        os.remove(\"vtt.vtt\")\n",
    "                    except Exception:\n",
    "                        pass\n",
    "                    try:\n",
    "                        os.remove('unicode-text.png')\n",
    "                        os.remove('output.mp4')\n",
    "                    except Exception:\n",
    "                        pass\n",
    "\n",
    "                    try:\n",
    "                        os.remove('output.mp4')\n",
    "                    except Exception:\n",
    "                        pass\n",
    "\n",
    "                    try:\n",
    "                        shutil.rmtree('downloads/'+dirC)\n",
    "                    except Exception:\n",
    "                        pass\n",
    "                    print(format(l1)+a1+b1+c1+\" Itaration--->>>>>>>>>>>>>>>>>>>>>>>>>>>>>>>>\")\n",
    "                    import time\n",
    "                    time.sleep(100)"
   ]
  },
  {
   "cell_type": "code",
   "execution_count": 49,
   "metadata": {
    "collapsed": true
   },
   "outputs": [],
   "source": [
    "                    def wrap_by_word(s, n):\n",
    "                        '''returns a string where \\\\n is inserted between every n words'''\n",
    "                        a12 = s.split()\n",
    "                        ret = ''\n",
    "                        length_of_list=count(a12)\n",
    "                        for i in range(0, length_of_list, n):\n",
    "                            ret += ' '.join(a12[i:i+n]) + '\\n'\n",
    "\n",
    "                        return ret"
   ]
  },
  {
   "cell_type": "code",
   "execution_count": 50,
   "metadata": {
    "collapsed": false
   },
   "outputs": [
    {
     "name": "stdout",
     "output_type": "stream",
     "text": [
      "Ajax (programming)\n",
      "\n"
     ]
    }
   ],
   "source": [
    "                    x = wrap_by_word(search_List[0], 3)\n",
    "                    print(x)\n",
    "                    draw.text((100,200), x, '#5973EA', font)\n",
    "\n",
    "                    # save the blank canvas to a file\n",
    "                    canvas.save(\"unicode-text.png\", \"PNG\")\n"
   ]
  },
  {
   "cell_type": "code",
   "execution_count": 51,
   "metadata": {
    "collapsed": false
   },
   "outputs": [
    {
     "name": "stdout",
     "output_type": "stream",
     "text": [
      "-------------------------------------- 6\n"
     ]
    }
   ],
   "source": [
    "\n",
    "\n",
    "                    title1=RES +\" | Information about \"+ search_List[0]\n",
    "                    title1=title1.capitalize()\n",
    "                    discrip=\". This content under the Creative Commons Attribution-ShareAlike License, all text used in this video is from wikipedia. I do not own it. I just make video out of this so that some people get some help.\"\n",
    "                    strL=\"youtube-upload --title=\"+\"'\"+title1+\"'\"+\" --description='A detail information about \"+RES+discrip+\"'\"+\" --category='Music' --tags=\"+\"'\"+RES+\", \"+search_List[0]+\"'\"+\" --default-language='en' --default-audio-language='en' --client-secrets='my_client_secrets.json' --credentials-file='my_credentials.json' --thumbnail='unicode-text.png' output.mp4\"\n",
    "                    subprocess.call(strL, shell=True)\n",
    "                    print(\"-------------------------------------- 6\")\n"
   ]
  },
  {
   "cell_type": "code",
   "execution_count": 16,
   "metadata": {
    "collapsed": false
   },
   "outputs": [],
   "source": [
    "\n",
    "                    try:\n",
    "                        os.remove(\"vtt.vtt\")\n",
    "                    except Exception:\n",
    "                        pass\n",
    "                    try:\n",
    "                        os.remove('unicode-text.png')\n",
    "                        os.remove('output.mp4')\n",
    "                    except Exception:\n",
    "                        pass\n",
    "\n",
    "                    try:\n",
    "                        os.remove('output.mp4')\n",
    "                    except Exception:\n",
    "                        pass\n",
    "\n",
    "                    try:\n",
    "                        shutil.rmtree('downloads/'+dirC)\n",
    "                    except Exception:\n",
    "                        pass\n",
    "                    #print(format(l1)+a1+b1+c1+\" Itaration--->>>>>>>>>>>>>>>>>>>>>>>>>>>>>>>>\")\n",
    "                    import time\n"
   ]
  },
  {
   "cell_type": "code",
   "execution_count": 15,
   "metadata": {
    "collapsed": false
   },
   "outputs": [
    {
     "ename": "FileNotFoundError",
     "evalue": "[Errno 2] No such file or directory: 'output.mp4'",
     "output_type": "error",
     "traceback": [
      "\u001b[0;31m---------------------------------------------------------------------------\u001b[0m",
      "\u001b[0;31mFileNotFoundError\u001b[0m                         Traceback (most recent call last)",
      "\u001b[0;32m<ipython-input-15-1de77359931b>\u001b[0m in \u001b[0;36m<module>\u001b[0;34m\u001b[0m\n\u001b[0;32m----> 1\u001b[0;31m \u001b[0mos\u001b[0m\u001b[0;34m.\u001b[0m\u001b[0mremove\u001b[0m\u001b[0;34m(\u001b[0m\u001b[0;34m'output.mp4'\u001b[0m\u001b[0;34m)\u001b[0m\u001b[0;34m\u001b[0m\u001b[0m\n\u001b[0m",
      "\u001b[0;31mFileNotFoundError\u001b[0m: [Errno 2] No such file or directory: 'output.mp4'"
     ]
    }
   ],
   "source": [
    "                        os.remove('output.mp4')\n"
   ]
  },
  {
   "cell_type": "code",
   "execution_count": 58,
   "metadata": {
    "collapsed": false
   },
   "outputs": [
    {
     "name": "stdout",
     "output_type": "stream",
     "text": [
      "Ajax (programming)\n",
      "\n"
     ]
    }
   ],
   "source": [
    "                    from PIL import Image,ImageDraw,ImageFont\n",
    "\n",
    "                    # sample text and font\n",
    "                    unicode_text = \"Hello World!\"\n",
    "                    font = ImageFont.truetype(\"Oxygen-Bold.ttf\",100, encoding=\"unic\")\n",
    "\n",
    "                    # get the line size\n",
    "                    text_width, text_height = font.getsize(unicode_text)\n",
    "\n",
    "                    # create a blank canvas with extra space between lines\n",
    "                    canvas = Image.new('RGB', (1280,720), \"#F7E394\")\n",
    "\n",
    "                    # draw the text onto the text canvas, and use black as the text color\n",
    "                    draw = ImageDraw.Draw(canvas)\n",
    "                    def count(list):\n",
    "                      item_count = 0\n",
    "                      for item in list[:]:\n",
    "                        item_count = item_count + 1\n",
    "                      return item_count\n",
    "                    \n",
    "                    def wrap_by_word(s, n):\n",
    "                        '''returns a string where \\\\n is inserted between every n words'''\n",
    "                        a12 = s.split()\n",
    "                        ret = ''\n",
    "                        length_of_list=count(a12)\n",
    "                        for i in range(0, length_of_list, n):\n",
    "                            ret += ' '.join(a12[i:i+n]) + '\\n'\n",
    "\n",
    "                        return ret\n",
    "\n",
    "                    x = wrap_by_word(search_List[0], 3)\n",
    "                    print(x)\n",
    "                    draw.text((100,200), x, '#5973EA', font)\n",
    "                    canvas.save(\"unicode-text.png\", \"PNG\")"
   ]
  },
  {
   "cell_type": "code",
   "execution_count": 20,
   "metadata": {
    "collapsed": true
   },
   "outputs": [],
   "source": [
    "proxies = {\n",
    "  \"http\": \"10.10.1.10:3128\",\n",
    "  \"https\": \"10.10.1.10:1080\",\n",
    "}"
   ]
  },
  {
   "cell_type": "code",
   "execution_count": 3,
   "metadata": {
    "collapsed": false
   },
   "outputs": [
    {
     "name": "stdout",
     "output_type": "stream",
     "text": [
      "<Response [200]>\n"
     ]
    }
   ],
   "source": [
    "import requests\n",
    "URL=\"https://suggestqueries.google.com/complete/search?client=firefox&q=what is\"\n",
    "HEADERS = {'user-agent': ('Mozilla/5.0 (Macintosh; Intel Mac OS X 10_10_5)'\n",
    "                          'AppleWebKit/537.36 (KHTML, like Gecko)'\n",
    "                          'Chrome/45.0.2454.101 Safari/537.36'),\n",
    "                          'referer': 'http://stats.nba.com/scores/'}\n",
    "response = requests.get(URL, headers=HEADERS)\n",
    "print(response)\n",
    "results = json.loads(response.content.decode('utf-8'))\n",
    "RES=results[1][0]"
   ]
  },
  {
   "cell_type": "code",
   "execution_count": 6,
   "metadata": {
    "collapsed": false
   },
   "outputs": [
    {
     "data": {
      "text/plain": [
       "200"
      ]
     },
     "execution_count": 6,
     "metadata": {},
     "output_type": "execute_result"
    }
   ],
   "source": [
    "if response.status_code!=200:\n",
    "    continue"
   ]
  },
  {
   "cell_type": "code",
   "execution_count": 18,
   "metadata": {
    "collapsed": true
   },
   "outputs": [],
   "source": [
    "import urllib"
   ]
  },
  {
   "cell_type": "code",
   "execution_count": 25,
   "metadata": {
    "collapsed": false
   },
   "outputs": [
    {
     "name": "stdout",
     "output_type": "stream",
     "text": [
      "Request #%d\n",
      "['what is', ['what is my ip', 'what is root', 'what is taj mahal actually', 'what is your name', 'what is love', 'what is the purpose of the text', 'what is the text about', 'what is', 'what is my ip address', 'what is advertisement']]\n"
     ]
    }
   ],
   "source": [
    "from lxml.html import fromstring\n",
    "import requests\n",
    "from itertools import cycle\n",
    "import traceback\n",
    "\n",
    "def get_proxies():\n",
    "    url = 'https://free-proxy-list.net/'\n",
    "    response = requests.get(url)\n",
    "    parser = fromstring(response.text)\n",
    "    proxies = set()\n",
    "    for i in parser.xpath('//tbody/tr')[:10]:\n",
    "        if i.xpath('.//td[7][contains(text(),\"yes\")]'):\n",
    "            proxy = \":\".join([i.xpath('.//td[1]/text()')[0], i.xpath('.//td[2]/text()')[0]])\n",
    "            proxies.add(proxy)\n",
    "    return proxies\n",
    "\n",
    "\n",
    "#If you are copy pasting proxy ips, put in the list below\n",
    "#proxies = ['121.129.127.209:80', '124.41.215.238:45169', '185.93.3.123:8080', '194.182.64.67:3128', '106.0.38.174:8080', '163.172.175.210:3128', '13.92.196.150:8080']\n",
    "proxies = get_proxies()\n",
    "proxy_pool = cycle(proxies)\n",
    "\n",
    "url = 'https://httpbin.org/ip'\n",
    "    #Get a proxy from the pool\n",
    "proxy = next(proxy_pool)\n",
    "print(\"Request #%d\")\n",
    "try:\n",
    "    response = requests.get(URL,proxies={\"http\": proxy, \"https\": proxy})\n",
    "    print(response.json())\n",
    "except:\n",
    "    #Most free proxies will often get connection errors. You will have retry the entire request using another proxy to work. \n",
    "    #We will just skip retries as its beyond the scope of this tutorial and we are only downloading a single url \n",
    "    print(\"Skipping. Connnection error\")"
   ]
  },
  {
   "cell_type": "code",
   "execution_count": 28,
   "metadata": {
    "collapsed": true
   },
   "outputs": [],
   "source": [
    "search_List=wi.search(\" What is\")"
   ]
  },
  {
   "cell_type": "code",
   "execution_count": 29,
   "metadata": {
    "collapsed": false
   },
   "outputs": [
    {
     "data": {
      "text/plain": [
       "'What'"
      ]
     },
     "execution_count": 29,
     "metadata": {},
     "output_type": "execute_result"
    }
   ],
   "source": [
    "search_List[0]"
   ]
  },
  {
   "cell_type": "code",
   "execution_count": 30,
   "metadata": {
    "collapsed": true
   },
   "outputs": [],
   "source": [
    "\n",
    "search_List=wi.search(\"resonance\")\n",
    "summery=wi.summary(search_List[0])"
   ]
  },
  {
   "cell_type": "code",
   "execution_count": 31,
   "metadata": {
    "collapsed": false
   },
   "outputs": [
    {
     "data": {
      "text/plain": [
       "'In mechanical systems, resonance is a phenomenon that occurs when the frequency at which a force is periodically applied is equal or nearly equal to one of the natural frequencies of the system on which it acts. This causes the system to oscillate with larger amplitude than when the force is applied at other frequencies.Frequencies at which the response amplitude is a relative maximum are known as resonant frequencies or resonance frequencies of the system. Near resonant frequencies, small periodic forces have the ability to produce large amplitude oscillations, due to the storage of vibrational energy.\\nIn other systems, such as electrical or optical, phenomena occur which are described as resonance but depend on interaction between different aspects of the system, not on an external driver.\\nFor example, electrical resonance occurs in a circuit with capacitors and inductors because the collapsing magnetic field of the inductor generates an electric current in its windings that charges the capacitor, and then the discharging capacitor provides an electric current that builds the magnetic field in the inductor. Once the circuit is charged, the oscillation is self-sustaining, and there is no external periodic driving action. This is analogous to a mechanical pendulum, where mechanical energy is converted back and forth between kinetic and potential, and both systems are forms of simple harmonic oscillators.\\nIn optical cavities, light confined in the cavity reflects back and forth multiple times. This produces standing waves, and only certain patterns and frequencies of radiation are sustained, due to the effects of interference, while the others are suppressed by destructive interference. Once the light enters the cavity, the oscillation is self-sustaining, and there is no external periodic driving action.\\nSome behavior is mistaken for resonance but instead is a form of self-oscillation, such as aeroelastic flutter, speed wobble, or Hunting oscillation. In these cases, the external energy source does not oscillate, but the components of the system interact with each other in a periodic fashion.'"
      ]
     },
     "execution_count": 31,
     "metadata": {},
     "output_type": "execute_result"
    }
   ],
   "source": [
    "summery"
   ]
  },
  {
   "cell_type": "code",
   "execution_count": 36,
   "metadata": {
    "collapsed": false
   },
   "outputs": [
    {
     "data": {
      "text/plain": [
       "10"
      ]
     },
     "execution_count": 36,
     "metadata": {},
     "output_type": "execute_result"
    }
   ],
   "source": [
    "len(search_List)"
   ]
  },
  {
   "cell_type": "code",
   "execution_count": 37,
   "metadata": {
    "collapsed": false
   },
   "outputs": [
    {
     "ename": "NameError",
     "evalue": "name 'results' is not defined",
     "output_type": "error",
     "traceback": [
      "\u001b[0;31m---------------------------------------------------------------------------\u001b[0m",
      "\u001b[0;31mNameError\u001b[0m                                 Traceback (most recent call last)",
      "\u001b[0;32m<ipython-input-37-100f62972f2f>\u001b[0m in \u001b[0;36m<module>\u001b[0;34m\u001b[0m\n\u001b[0;32m----> 1\u001b[0;31m \u001b[0mresults\u001b[0m\u001b[0;34m\u001b[0m\u001b[0m\n\u001b[0m",
      "\u001b[0;31mNameError\u001b[0m: name 'results' is not defined"
     ]
    }
   ],
   "source": [
    "results"
   ]
  },
  {
   "cell_type": "code",
   "execution_count": 48,
   "metadata": {
    "collapsed": false
   },
   "outputs": [
    {
     "name": "stdout",
     "output_type": "stream",
     "text": [
      "0\n",
      "1\n",
      "2\n",
      "3\n",
      "4\n",
      "5\n",
      "6\n",
      "7\n",
      "8\n",
      "9\n"
     ]
    }
   ],
   "source": [
    "search_List=[1]\n",
    "for i in range(0,10):\n",
    "    if len(search_List)==0:\n",
    "        print(\"Empty\")\n",
    "        continue\n",
    "    print(i)"
   ]
  },
  {
   "cell_type": "code",
   "execution_count": 17,
   "metadata": {
    "collapsed": true
   },
   "outputs": [],
   "source": [
    "try:\n",
    "    os.remove(\"vtt.vtt\")\n",
    "    import glob, os\n",
    "    test = 'video/*'\n",
    "    r = glob.glob(test)\n",
    "    for i in r:\n",
    "       os.remove(i)\n",
    "\n",
    "    import glob, os\n",
    "    test = 'video2/*'\n",
    "    r = glob.glob(test)\n",
    "    for i in r:\n",
    "       os.remove(i)\n",
    "\n",
    "    import glob, os\n",
    "    test = 'video3/*'\n",
    "    r = glob.glob(test)\n",
    "    for i in r:\n",
    "       os.remove(i)\n",
    "\n",
    "    import glob, os\n",
    "    test = 'mp3/*'\n",
    "    r = glob.glob(test)\n",
    "    for i in r:\n",
    "       os.remove(i)\n",
    "except Exception:\n",
    "    pass\n"
   ]
  },
  {
   "cell_type": "code",
   "execution_count": 2,
   "metadata": {
    "collapsed": false
   },
   "outputs": [],
   "source": [
    "import glob, os\n",
    "\n",
    "try:\n",
    "    test = 'video/*'\n",
    "    r = glob.glob(test)\n",
    "    for i in r:\n",
    "        os.remove(i)\n",
    "except Exception:\n",
    "    pass\n",
    "try:\n",
    "    test = 'video2/*'\n",
    "    r = glob.glob(test)\n",
    "    for i in r:\n",
    "       os.remove(i)\n",
    "except Exception:\n",
    "    pass\n",
    "try:\n",
    "    test = 'video3/*'\n",
    "    r = glob.glob(test)\n",
    "    for i in r:\n",
    "       os.remove(i)\n",
    "except Exception:\n",
    "    pass\n",
    "try:\n",
    "    test = 'mp3/*'\n",
    "    r = glob.glob(test)\n",
    "    for i in r:\n",
    "       os.remove(i)\n",
    "except Exception:\n",
    "    pass\n",
    "try:\n",
    "    os.remove(\"vtt.vtt\")\n",
    "except Exception:\n",
    "    pass"
   ]
  },
  {
   "cell_type": "code",
   "execution_count": 22,
   "metadata": {
    "collapsed": false
   },
   "outputs": [
    {
     "ename": "FileNotFoundError",
     "evalue": "[Errno 2] No such file or directory: 'vtt.vtt'",
     "output_type": "error",
     "traceback": [
      "\u001b[0;31m---------------------------------------------------------------------------\u001b[0m",
      "\u001b[0;31mFileNotFoundError\u001b[0m                         Traceback (most recent call last)",
      "\u001b[0;32m<ipython-input-22-5a6770616f9e>\u001b[0m in \u001b[0;36m<module>\u001b[0;34m\u001b[0m\n\u001b[0;32m----> 1\u001b[0;31m \u001b[0mos\u001b[0m\u001b[0;34m.\u001b[0m\u001b[0mremove\u001b[0m\u001b[0;34m(\u001b[0m\u001b[0;34m\"vtt.vtt\"\u001b[0m\u001b[0;34m)\u001b[0m\u001b[0;34m\u001b[0m\u001b[0m\n\u001b[0m\u001b[1;32m      2\u001b[0m \u001b[0mtest\u001b[0m \u001b[0;34m=\u001b[0m \u001b[0;34m'video/*'\u001b[0m\u001b[0;34m\u001b[0m\u001b[0m\n\u001b[1;32m      3\u001b[0m \u001b[0mr\u001b[0m \u001b[0;34m=\u001b[0m \u001b[0mglob\u001b[0m\u001b[0;34m.\u001b[0m\u001b[0mglob\u001b[0m\u001b[0;34m(\u001b[0m\u001b[0mtest\u001b[0m\u001b[0;34m)\u001b[0m\u001b[0;34m\u001b[0m\u001b[0m\n\u001b[1;32m      4\u001b[0m \u001b[0;32mfor\u001b[0m \u001b[0mi\u001b[0m \u001b[0;32min\u001b[0m \u001b[0mr\u001b[0m\u001b[0;34m:\u001b[0m\u001b[0;34m\u001b[0m\u001b[0m\n\u001b[1;32m      5\u001b[0m     \u001b[0mos\u001b[0m\u001b[0;34m.\u001b[0m\u001b[0mremove\u001b[0m\u001b[0;34m(\u001b[0m\u001b[0mi\u001b[0m\u001b[0;34m)\u001b[0m\u001b[0;34m\u001b[0m\u001b[0m\n",
      "\u001b[0;31mFileNotFoundError\u001b[0m: [Errno 2] No such file or directory: 'vtt.vtt'"
     ]
    }
   ],
   "source": [
    "    os.remove(\"vtt.vtt\")\n",
    "    test = 'video/*'\n",
    "    r = glob.glob(test)\n",
    "    for i in r:\n",
    "        os.remove(i)"
   ]
  },
  {
   "cell_type": "code",
   "execution_count": null,
   "metadata": {
    "collapsed": true
   },
   "outputs": [],
   "source": []
  }
 ],
 "metadata": {
  "anaconda-cloud": {},
  "kernelspec": {
   "display_name": "Python [conda env:env35]",
   "language": "python",
   "name": "conda-env-env35-py"
  },
  "language_info": {
   "codemirror_mode": {
    "name": "ipython",
    "version": 3
   },
   "file_extension": ".py",
   "mimetype": "text/x-python",
   "name": "python",
   "nbconvert_exporter": "python",
   "pygments_lexer": "ipython3",
   "version": "3.5.4"
  }
 },
 "nbformat": 4,
 "nbformat_minor": 2
}

{
 "cells": [
  {
   "cell_type": "code",
   "execution_count": 12,
   "metadata": {
    "collapsed": true
   },
   "outputs": [],
   "source": [
    "#import urllib\n",
    "#import re\n",
    "#import schedule\n",
    "from datetime import datetime\n",
    "#import shutil\n",
    "import subprocess\n",
    "#import wikipedia as wi\n",
    "#from google_images_download import google_images_download\n",
    "import re\n",
    "from gtts import gTTS\n",
    "#import requests, json\n",
    "import time\n",
    "from requests_html import HTMLSession"
   ]
  },
  {
   "cell_type": "code",
   "execution_count": 73,
   "metadata": {
    "collapsed": false
   },
   "outputs": [
    {
     "name": "stdout",
     "output_type": "stream",
     "text": [
      "How To Stop Worrying And\n"
     ]
    },
    {
     "ename": "IndexError",
     "evalue": "list index out of range",
     "output_type": "error",
     "traceback": [
      "\u001b[0;31m---------------------------------------------------------------------------\u001b[0m",
      "\u001b[0;31mIndexError\u001b[0m                                Traceback (most recent call last)",
      "\u001b[0;32m<ipython-input-73-722db3b4a0c5>\u001b[0m in \u001b[0;36m<module>\u001b[0;34m\u001b[0m\n\u001b[1;32m     66\u001b[0m \u001b[0;34m\u001b[0m\u001b[0m\n\u001b[1;32m     67\u001b[0m     \u001b[0mf\u001b[0m \u001b[0;34m=\u001b[0m \u001b[0mopen\u001b[0m\u001b[0;34m(\u001b[0m\u001b[0;34m\"downloads/\"\u001b[0m\u001b[0;34m+\u001b[0m\u001b[0mdirC\u001b[0m\u001b[0;34m+\u001b[0m\u001b[0;34m\"/\"\u001b[0m\u001b[0;34m+\u001b[0m\u001b[0mstr\u001b[0m\u001b[0;34m(\u001b[0m\u001b[0mi\u001b[0m\u001b[0;34m+\u001b[0m\u001b[0;36m1\u001b[0m\u001b[0;34m)\u001b[0m\u001b[0;34m+\u001b[0m\u001b[0;34m\".jpg\"\u001b[0m\u001b[0;34m,\u001b[0m\u001b[0;34m'wb'\u001b[0m\u001b[0;34m)\u001b[0m\u001b[0;34m\u001b[0m\u001b[0m\n\u001b[0;32m---> 68\u001b[0;31m     \u001b[0mf\u001b[0m\u001b[0;34m.\u001b[0m\u001b[0mwrite\u001b[0m\u001b[0;34m(\u001b[0m\u001b[0murllib\u001b[0m\u001b[0;34m.\u001b[0m\u001b[0mrequest\u001b[0m\u001b[0;34m.\u001b[0m\u001b[0murlopen\u001b[0m\u001b[0;34m(\u001b[0m\u001b[0mims\u001b[0m\u001b[0;34m[\u001b[0m\u001b[0;34m'hits'\u001b[0m\u001b[0;34m]\u001b[0m\u001b[0;34m[\u001b[0m\u001b[0mi\u001b[0m\u001b[0;34m]\u001b[0m\u001b[0;34m[\u001b[0m\u001b[0;34m'largeImageURL'\u001b[0m\u001b[0;34m]\u001b[0m\u001b[0;34m)\u001b[0m\u001b[0;34m.\u001b[0m\u001b[0mread\u001b[0m\u001b[0;34m(\u001b[0m\u001b[0;34m)\u001b[0m\u001b[0;34m)\u001b[0m\u001b[0;34m\u001b[0m\u001b[0m\n\u001b[0m\u001b[1;32m     69\u001b[0m     \u001b[0mf\u001b[0m\u001b[0;34m.\u001b[0m\u001b[0mclose\u001b[0m\u001b[0;34m(\u001b[0m\u001b[0;34m)\u001b[0m\u001b[0;34m\u001b[0m\u001b[0m\n",
      "\u001b[0;31mIndexError\u001b[0m: list index out of range"
     ]
    }
   ],
   "source": [
    "session = HTMLSession()\n",
    "r = session.get(\"https://ezinearticles.com/?cat=Health-and-Fitness&page=1\")\n",
    "r=str(r.content).split('''<a class=\"article-title-link\" href=\"''')\n",
    "link={}\n",
    "p=r[0+1].split('''\">''')\n",
    "link[0]=p[0]\n",
    "from requests_html import HTMLSession\n",
    "session = HTMLSession()\n",
    "r = session.get('''https://ezinearticles.com'''+link[0])\n",
    "title=str(r.content)\n",
    "title=title.split(\"<h1>\")\n",
    "title=title[1].split(\"</h1>\")\n",
    "title=title[0]\n",
    "\n",
    "r=str(r.content).split(\"\"\"<div id=\"article-content\">\"\"\")\n",
    "p=r[1].split(\"\"\"</div>\"\"\")\n",
    "p=p[0]\n",
    "from inscriptis import get_text\n",
    "text = get_text(p)\n",
    "text=text.replace(\"\\n\",\"\")\n",
    "text=text.replace(\"\\\\t\",\"\")\n",
    "text=text.replace(\"\\\\n\",\"\")\n",
    "text=text.replace(\"*\",\"\")\n",
    "text=text.replace(\"\\\\r\",\"\")\n",
    "text=text.replace(\"\\\\t\",\"\")\n",
    "text=text.replace(\"\\\\n\",\"\")\n",
    "text=text.replace(\"*\",\"\")\n",
    "text=text.replace(\"  \",\"\")\n",
    "text=text.replace('''\\\\''',\"\")\n",
    "\n",
    "RES=' '.join(title.split()[:5])\n",
    "\n",
    "print(RES)\n",
    "\n",
    "maintitle=' '.join(title.split()[:10])\n",
    "\n",
    "summery=text\n",
    "\n",
    "#dirC=' '.join(new1.split()[:5])\n",
    "dirC=title\n",
    "dirC = re.sub(r\"[-()\\\"#&/@;:<>{}`+=~|?.!,]\", \"\", dirC)\n",
    "dirC = dirC.replace(\" \",\"-\")\n",
    "\n",
    "\n",
    "imageSearch=dirC.replace('-',' ')\n",
    "from pixabay import Image, Video\n",
    "API_KEY = '11260031-f9096042a465b94c202846550'\n",
    "image = Image(API_KEY)\n",
    "ims = image.search(q=imageSearch,\n",
    "             lang='es',)\n",
    "\n",
    "\n",
    "\n",
    "import os\n",
    "if not os.path.exists(\"downloads/\"+dirC+\"/\"):\n",
    "    os.makedirs(\"downloads/\"+dirC+\"/\")\n",
    "\n",
    "\n",
    "import urllib\n",
    "for i in range(0,5):\n",
    "    '''\n",
    "    t1 = open(\"downloads/\"+dirC+\"/\"+str(i+1)+\".jpg\", 'wb')\n",
    "    urllib.request.urlretrieve(ims['hits'][i]['largeImageURL'], \"downloads/\"+dirC+\"/\"+str(i+1)+\".jpg\")\n",
    "    t1.close()\n",
    "    '''\n",
    "    \n",
    "    f = open(\"downloads/\"+dirC+\"/\"+str(i+1)+\".jpg\",'wb')\n",
    "    f.write(urllib.request.urlopen(ims['hits'][i]['largeImageURL']).read())\n",
    "    f.close()\n"
   ]
  },
  {
   "cell_type": "code",
   "execution_count": 76,
   "metadata": {
    "collapsed": false
   },
   "outputs": [
    {
     "data": {
      "text/plain": [
       "'How To Stop Worrying And Go To Sleep At Night'"
      ]
     },
     "execution_count": 76,
     "metadata": {},
     "output_type": "execute_result"
    }
   ],
   "source": [
    "imageSearch"
   ]
  },
  {
   "cell_type": "code",
   "execution_count": 64,
   "metadata": {
    "collapsed": false
   },
   "outputs": [
    {
     "name": "stdout",
     "output_type": "stream",
     "text": [
      "You need enough sleep\n",
      " You need enough sleep in order to function and in order to restore and rejuvenate your mind and your body\n",
      "Tens of millions of people have insomnia and other sleep problems\n",
      " Stress, worry and fear can be major contributors to sleep and nonsleep problems\n",
      " It is very common for people to toss and turn all night or sleep too few hours or not sleep at all\n",
      " This may often be due to one's mind continuing to focus at top speed on problems instead of shutting down at night and resting\n",
      "When I was in my 20's, and a money market trader on Wall Street, I had the very same problem\n",
      " I had a job that required me to function at an extremely high level, continually, all day long\n",
      " From 7AM to 7PM\n",
      " I could not go to sleep at night because my mind was still racing, reviewing the day's work and problems and planning the next day's work and problems\n",
      " The lack of sleep began to interfere with my ability to function on the job at the required high level\n",
      " If this continued, I would not be able to do my job effectively and I would soon be tired, and fired\n",
      " I had to get more sleep\n",
      "When I realized that it was my mind that was keeping me awake until 1AM  2AM, I decided I had to do something about it\n",
      " What did I do How did I solve the problem What I did was make a deal with my brain\n",
      " The deal was that when it was time to go to sleep I would take all my problems, worries and fears out of my brain and set them down on the nightstand next to my bed\n",
      " I promised my brain that all my problems, worries and fears would still be there on the nightstand in the morning when I woke up and I would pick all my problems up off the nightstand, put them back in my brain, and my brain could start spinning and racing and worrying all over again\n",
      " After a few nights of trying this it began to work\n",
      " I fooled my brain\n",
      " I trained my brain\n",
      " Now, when it was time to go to sleep, I was able to lay down, put my problems and worries and fears aside, and go to sleep\n",
      " And in the morning, I was refreshed and ready to face the day\n",
      " That was decades ago and since then, when I get into bed, I lay down my troubles\n",
      " And have no trouble going to sleep at night\n",
      "In addition, I learned something else a lot of the things I worried about at night disappeared or lessened when I went to pick them up off the nightstand the next morning\n",
      "When it's time to go to sleep, the day is finished\n",
      " Put your worries down\n",
      " When day is done and it's time for sleep, there is nothing more you can actually do right now about your existing problems, worries and fears\n",
      " Put them down on the nightstand, or, if you prefer, place an empty box next to your bed to put your problems in at night\n",
      " Don't worry, all your problems, worries and fears will still be there in the morning\n",
      " Or not\n",
      " Meanwhile, you can go to sleep\n",
      "And, if you wish, you can even write down your worries on a piece of paper and physically put them in the box\n",
      " And, in the morning, you can once again pick them up\n",
      " Or not\n",
      "As for the box, any empty box will do\n",
      " Any color\n",
      " It may help if the box has a lid and you can leave it open to easily put in your worries, problems and fears\n",
      " No, it doesn't have to be a large box\n",
      " Unless you have a LOT of worries\n",
      "\n",
      "Processing 5.jpg\n",
      "Processing 6.jpg\n"
     ]
    },
    {
     "ename": "IsADirectoryError",
     "evalue": "[Errno 21] Is a directory: 'downloads/How-To-Stop-Worrying-And-Go-To-Sleep-At-Night/6.jpg'",
     "output_type": "error",
     "traceback": [
      "\u001b[0;31m---------------------------------------------------------------------------\u001b[0m",
      "\u001b[0;31mIsADirectoryError\u001b[0m                         Traceback (most recent call last)",
      "\u001b[0;32m<ipython-input-64-bdc1e571530a>\u001b[0m in \u001b[0;36m<module>\u001b[0;34m\u001b[0m\n\u001b[1;32m     60\u001b[0m \u001b[0;32mfor\u001b[0m \u001b[0mfile_name\u001b[0m \u001b[0;32min\u001b[0m \u001b[0mos\u001b[0m\u001b[0;34m.\u001b[0m\u001b[0mlistdir\u001b[0m\u001b[0;34m(\u001b[0m\u001b[0mdirectory\u001b[0m\u001b[0;34m)\u001b[0m\u001b[0;34m:\u001b[0m\u001b[0;34m\u001b[0m\u001b[0m\n\u001b[1;32m     61\u001b[0m   \u001b[0mprint\u001b[0m\u001b[0;34m(\u001b[0m\u001b[0;34m\"Processing %s\"\u001b[0m \u001b[0;34m%\u001b[0m \u001b[0mfile_name\u001b[0m\u001b[0;34m)\u001b[0m\u001b[0;34m\u001b[0m\u001b[0m\n\u001b[0;32m---> 62\u001b[0;31m   \u001b[0mimage\u001b[0m \u001b[0;34m=\u001b[0m \u001b[0mImage\u001b[0m\u001b[0;34m.\u001b[0m\u001b[0mopen\u001b[0m\u001b[0;34m(\u001b[0m\u001b[0mos\u001b[0m\u001b[0;34m.\u001b[0m\u001b[0mpath\u001b[0m\u001b[0;34m.\u001b[0m\u001b[0mjoin\u001b[0m\u001b[0;34m(\u001b[0m\u001b[0mdirectory\u001b[0m\u001b[0;34m,\u001b[0m \u001b[0mfile_name\u001b[0m\u001b[0;34m)\u001b[0m\u001b[0;34m)\u001b[0m\u001b[0;34m\u001b[0m\u001b[0m\n\u001b[0m\u001b[1;32m     63\u001b[0m \u001b[0;34m\u001b[0m\u001b[0m\n\u001b[1;32m     64\u001b[0m   \u001b[0mx\u001b[0m\u001b[0;34m,\u001b[0m\u001b[0my\u001b[0m \u001b[0;34m=\u001b[0m \u001b[0mimage\u001b[0m\u001b[0;34m.\u001b[0m\u001b[0msize\u001b[0m\u001b[0;34m\u001b[0m\u001b[0m\n",
      "\u001b[0;32m~/anaconda3/envs/env35/lib/python3.5/site-packages/PIL/Image.py\u001b[0m in \u001b[0;36mopen\u001b[0;34m(fp, mode)\u001b[0m\n\u001b[1;32m   2310\u001b[0m \u001b[0;34m\u001b[0m\u001b[0m\n\u001b[1;32m   2311\u001b[0m     \u001b[0;32mif\u001b[0m \u001b[0mfilename\u001b[0m\u001b[0;34m:\u001b[0m\u001b[0;34m\u001b[0m\u001b[0m\n\u001b[0;32m-> 2312\u001b[0;31m         \u001b[0mfp\u001b[0m \u001b[0;34m=\u001b[0m \u001b[0mbuiltins\u001b[0m\u001b[0;34m.\u001b[0m\u001b[0mopen\u001b[0m\u001b[0;34m(\u001b[0m\u001b[0mfilename\u001b[0m\u001b[0;34m,\u001b[0m \u001b[0;34m\"rb\"\u001b[0m\u001b[0;34m)\u001b[0m\u001b[0;34m\u001b[0m\u001b[0m\n\u001b[0m\u001b[1;32m   2313\u001b[0m \u001b[0;34m\u001b[0m\u001b[0m\n\u001b[1;32m   2314\u001b[0m     \u001b[0;32mtry\u001b[0m\u001b[0;34m:\u001b[0m\u001b[0;34m\u001b[0m\u001b[0m\n",
      "\u001b[0;31mIsADirectoryError\u001b[0m: [Errno 21] Is a directory: 'downloads/How-To-Stop-Worrying-And-Go-To-Sleep-At-Night/6.jpg'"
     ]
    }
   ],
   "source": [
    "\n",
    "tts = gTTS(summery, lang='en')\n",
    "tts.save(dirC+'.mp3')\n",
    "sendsum=summery\n",
    "summery=summery.replace('\\n', '')\n",
    "summery = re.sub(r\"[-()\\\"#&/@;:<>{}`+=~|!?]\", \"\", summery)\n",
    "\n",
    "import datetime\n",
    "\n",
    "sentence_sends=summery\n",
    "#sentence_sends=sentence_sends.replace(',','.')\n",
    "sentence_sends=sentence_sends.split('.')\n",
    "current_time=datetime.datetime(100,1,10,0,0)\n",
    "number=0\n",
    "time=datetime.datetime(100,1,1,0,0,0)\n",
    "with open(\"vtt.vtt\",\"a\",encoding=\"utf-8\") as f:\n",
    "    f.write(\"WEBVTT\\nKind: captions\\nLanguage: en\\n\")\n",
    "for sentence_send in sentence_sends:\n",
    "    time_add=(len(sentence_send.split()))*0.5\n",
    "    time_add=int(time_add)\n",
    "    end_time=current_time+datetime.timedelta(0,time_add)\n",
    "\n",
    "    str_current_time=format(current_time.time())\n",
    "    str_end_time=format(end_time.time())\n",
    "    current_time=end_time#datetime.timedelta(0,1)\n",
    "    with open(\"vtt.vtt\",\"a\",encoding=\"utf-8\") as f:\n",
    "        print(sentence_send)\n",
    "        #.write(str(number))\n",
    "        f.write(\"\\n\")\n",
    "        f.write(str_current_time)\n",
    "        f.write(\".1\")\n",
    "        f.write(\" --> \")\n",
    "        f.write(str_end_time)\n",
    "        f.write(\".1\")\n",
    "        f.write(\"\\n\")\n",
    "        f.write(sentence_send)\n",
    "        f.write(\"\\n\")\n",
    "        f.write(\"\\n\")\n",
    "    number=number+1\n",
    "\n",
    "oo=1\n",
    "import os\n",
    "for filename in os.listdir(\"downloads/\"+dirC): \n",
    "    dst =format(oo) + \".jpg\"\n",
    "    src =\"downloads/\" + dirC+\"/\" + filename \n",
    "    dst =\"downloads/\" + dirC+\"/\" + dst\n",
    "    os.rename(src, dst)\n",
    "    oo=oo+1\n",
    "\n",
    "from mutagen.mp3 import MP3\n",
    "audio = MP3(dirC+'.mp3')\n",
    "audio=int(audio.info.length)\n",
    "audio=format(int(audio/4))\n",
    "\n",
    "from PIL import Image\n",
    "import os, sys\n",
    "\n",
    "path = 'downloads/'+dirC\n",
    "directory = path\n",
    "for file_name in os.listdir(directory):\n",
    "  print(\"Processing %s\" % file_name)\n",
    "  image = Image.open(os.path.join(directory, file_name))\n",
    "\n",
    "  x,y = image.size\n",
    "  new_dimensions = (1920,1080)\n",
    "  output = image.resize(new_dimensions, Image.ANTIALIAS)\n",
    "\n",
    "  output_file_name = os.path.join(directory,file_name)\n",
    "  output.save(output_file_name, \"JPEG\", quality = 95)\n",
    "print(\"-------------------------------------- 1\")\n",
    "import subprocess\n",
    "import os\n",
    "\n"
   ]
  },
  {
   "cell_type": "code",
   "execution_count": 61,
   "metadata": {
    "collapsed": false
   },
   "outputs": [
    {
     "name": "stdout",
     "output_type": "stream",
     "text": [
      "/bin/sh: 1: ffmpeg: not found\r\n"
     ]
    }
   ],
   "source": [
    "!ffmpeg -framerate 1/55 -i downloads/How-To-Stop-Worrying-And-Go-To-Sleep-At-Night/%1d.jpg -c:v libx264 -r 30 -pix_fmt yuv420p downloads/How-To-Stop-Worrying-And-Go-To-Sleep-At-Night/slideshow.mp4"
   ]
  },
  {
   "cell_type": "code",
   "execution_count": null,
   "metadata": {
    "collapsed": true
   },
   "outputs": [],
   "source": []
  }
 ],
 "metadata": {
  "anaconda-cloud": {},
  "kernelspec": {
   "display_name": "Python [conda env:env35]",
   "language": "python",
   "name": "conda-env-env35-py"
  },
  "language_info": {
   "codemirror_mode": {
    "name": "ipython",
    "version": 3
   },
   "file_extension": ".py",
   "mimetype": "text/x-python",
   "name": "python",
   "nbconvert_exporter": "python",
   "pygments_lexer": "ipython3",
   "version": "3.5.4"
  }
 },
 "nbformat": 4,
 "nbformat_minor": 1
}
